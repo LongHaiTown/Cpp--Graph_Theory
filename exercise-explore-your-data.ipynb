{
 "cells": [
  {
   "cell_type": "markdown",
   "id": "e3aacc3f",
   "metadata": {
    "papermill": {
     "duration": 0.003856,
     "end_time": "2024-01-30T03:38:37.640368",
     "exception": false,
     "start_time": "2024-01-30T03:38:37.636512",
     "status": "completed"
    },
    "tags": []
   },
   "source": [
    "**[Machine Learning Course Home Page](https://www.kaggle.com/learn/machine-learning)**\n",
    "\n",
    "---\n"
   ]
  },
  {
   "cell_type": "markdown",
   "id": "b437635d",
   "metadata": {
    "papermill": {
     "duration": 0.002763,
     "end_time": "2024-01-30T03:38:37.646674",
     "exception": false,
     "start_time": "2024-01-30T03:38:37.643911",
     "status": "completed"
    },
    "tags": []
   },
   "source": [
    "This exercise will test your ability to read a data file and understand statistics about the data.\n",
    "\n",
    "In later exercises, you will apply techniques to filter the data, build a machine learning model, and iteratively improve your model.\n",
    "\n",
    "The course examples use data from Melbourne. To ensure you can apply these techniques on your own, you will have to apply them to a new dataset (with house prices from Iowa).\n",
    "\n",
    "The exercises use a \"notebook\" coding environment.  In case you are unfamiliar with notebooks, we have a [90-second intro video](https://www.youtube.com/watch?v=4C2qMnaIKL4).\n",
    "\n",
    "# Exercises\n",
    "\n",
    "Run the following cell to set up code-checking, which will verify your work as you go."
   ]
  },
  {
   "cell_type": "code",
   "execution_count": 1,
   "id": "7253c438",
   "metadata": {
    "execution": {
     "iopub.execute_input": "2024-01-30T03:38:37.654880Z",
     "iopub.status.busy": "2024-01-30T03:38:37.654326Z",
     "iopub.status.idle": "2024-01-30T03:38:38.587835Z",
     "shell.execute_reply": "2024-01-30T03:38:38.586929Z"
    },
    "papermill": {
     "duration": 0.940271,
     "end_time": "2024-01-30T03:38:38.589866",
     "exception": false,
     "start_time": "2024-01-30T03:38:37.649595",
     "status": "completed"
    },
    "tags": []
   },
   "outputs": [
    {
     "name": "stdout",
     "output_type": "stream",
     "text": [
      "Setup Complete\n"
     ]
    }
   ],
   "source": [
    "# Set up code checking\n",
    "from learntools.core import binder\n",
    "binder.bind(globals())\n",
    "from learntools.machine_learning.ex2 import *\n",
    "print(\"Setup Complete\")"
   ]
  },
  {
   "cell_type": "markdown",
   "id": "7e699baa",
   "metadata": {
    "papermill": {
     "duration": 0.002924,
     "end_time": "2024-01-30T03:38:38.596419",
     "exception": false,
     "start_time": "2024-01-30T03:38:38.593495",
     "status": "completed"
    },
    "tags": []
   },
   "source": [
    "## Step 1: Loading Data\n",
    "Read the Iowa data file into a Pandas DataFrame called `home_data`."
   ]
  },
  {
   "cell_type": "code",
   "execution_count": 2,
   "id": "26088c4f",
   "metadata": {
    "execution": {
     "iopub.execute_input": "2024-01-30T03:38:38.605925Z",
     "iopub.status.busy": "2024-01-30T03:38:38.605201Z",
     "iopub.status.idle": "2024-01-30T03:38:38.655260Z",
     "shell.execute_reply": "2024-01-30T03:38:38.653852Z"
    },
    "papermill": {
     "duration": 0.058595,
     "end_time": "2024-01-30T03:38:38.658062",
     "exception": false,
     "start_time": "2024-01-30T03:38:38.599467",
     "status": "completed"
    },
    "tags": []
   },
   "outputs": [
    {
     "data": {
      "application/javascript": [
       "parent.postMessage({\"jupyterEvent\": \"custom.exercise_interaction\", \"data\": {\"outcomeType\": 1, \"valueTowardsCompletion\": 0.5, \"interactionType\": 1, \"questionType\": 1, \"questionId\": \"1_LoadHomeData\", \"learnToolsVersion\": \"0.3.4\", \"failureMessage\": \"\", \"exceptionClass\": \"\", \"trace\": \"\"}}, \"*\")"
      ],
      "text/plain": [
       "<IPython.core.display.Javascript object>"
      ]
     },
     "metadata": {},
     "output_type": "display_data"
    },
    {
     "data": {
      "text/markdown": [
       "<span style=\"color:#33cc33\">Correct</span>"
      ],
      "text/plain": [
       "Correct"
      ]
     },
     "metadata": {},
     "output_type": "display_data"
    }
   ],
   "source": [
    "import pandas as pd\n",
    "\n",
    "# Path of the file to read\n",
    "iowa_file_path = '../input/home-data-for-ml-course/train.csv'\n",
    "\n",
    "# Fill in the line below to read the file into a variable home_data\n",
    "home_data = pd.read_csv(iowa_file_path)\n",
    "\n",
    "# Call line below with no argument to check that you've loaded the data correctly\n",
    "step_1.check()"
   ]
  },
  {
   "cell_type": "code",
   "execution_count": 3,
   "id": "7559af15",
   "metadata": {
    "execution": {
     "iopub.execute_input": "2024-01-30T03:38:38.667620Z",
     "iopub.status.busy": "2024-01-30T03:38:38.667277Z",
     "iopub.status.idle": "2024-01-30T03:38:38.674213Z",
     "shell.execute_reply": "2024-01-30T03:38:38.673016Z"
    },
    "papermill": {
     "duration": 0.015054,
     "end_time": "2024-01-30T03:38:38.677328",
     "exception": false,
     "start_time": "2024-01-30T03:38:38.662274",
     "status": "completed"
    },
    "tags": []
   },
   "outputs": [],
   "source": [
    "# Lines below will give you a hint or solution code\n",
    "#step_1.hint()\n",
    "#step_1.solution()"
   ]
  },
  {
   "cell_type": "markdown",
   "id": "72e86074",
   "metadata": {
    "papermill": {
     "duration": 0.003465,
     "end_time": "2024-01-30T03:38:38.684892",
     "exception": false,
     "start_time": "2024-01-30T03:38:38.681427",
     "status": "completed"
    },
    "tags": []
   },
   "source": [
    "## Step 2: Review The Data\n",
    "Use the command you learned to view summary statistics of the data. Then fill in variables to answer the following questions"
   ]
  },
  {
   "cell_type": "code",
   "execution_count": 4,
   "id": "59b13a7f",
   "metadata": {
    "execution": {
     "iopub.execute_input": "2024-01-30T03:38:38.694218Z",
     "iopub.status.busy": "2024-01-30T03:38:38.693775Z",
     "iopub.status.idle": "2024-01-30T03:38:38.726214Z",
     "shell.execute_reply": "2024-01-30T03:38:38.725239Z"
    },
    "papermill": {
     "duration": 0.039795,
     "end_time": "2024-01-30T03:38:38.728501",
     "exception": false,
     "start_time": "2024-01-30T03:38:38.688706",
     "status": "completed"
    },
    "tags": []
   },
   "outputs": [
    {
     "name": "stdout",
     "output_type": "stream",
     "text": [
      "<class 'pandas.core.frame.DataFrame'>\n",
      "RangeIndex: 1460 entries, 0 to 1459\n",
      "Data columns (total 81 columns):\n",
      " #   Column         Non-Null Count  Dtype  \n",
      "---  ------         --------------  -----  \n",
      " 0   Id             1460 non-null   int64  \n",
      " 1   MSSubClass     1460 non-null   int64  \n",
      " 2   MSZoning       1460 non-null   object \n",
      " 3   LotFrontage    1201 non-null   float64\n",
      " 4   LotArea        1460 non-null   int64  \n",
      " 5   Street         1460 non-null   object \n",
      " 6   Alley          91 non-null     object \n",
      " 7   LotShape       1460 non-null   object \n",
      " 8   LandContour    1460 non-null   object \n",
      " 9   Utilities      1460 non-null   object \n",
      " 10  LotConfig      1460 non-null   object \n",
      " 11  LandSlope      1460 non-null   object \n",
      " 12  Neighborhood   1460 non-null   object \n",
      " 13  Condition1     1460 non-null   object \n",
      " 14  Condition2     1460 non-null   object \n",
      " 15  BldgType       1460 non-null   object \n",
      " 16  HouseStyle     1460 non-null   object \n",
      " 17  OverallQual    1460 non-null   int64  \n",
      " 18  OverallCond    1460 non-null   int64  \n",
      " 19  YearBuilt      1460 non-null   int64  \n",
      " 20  YearRemodAdd   1460 non-null   int64  \n",
      " 21  RoofStyle      1460 non-null   object \n",
      " 22  RoofMatl       1460 non-null   object \n",
      " 23  Exterior1st    1460 non-null   object \n",
      " 24  Exterior2nd    1460 non-null   object \n",
      " 25  MasVnrType     588 non-null    object \n",
      " 26  MasVnrArea     1452 non-null   float64\n",
      " 27  ExterQual      1460 non-null   object \n",
      " 28  ExterCond      1460 non-null   object \n",
      " 29  Foundation     1460 non-null   object \n",
      " 30  BsmtQual       1423 non-null   object \n",
      " 31  BsmtCond       1423 non-null   object \n",
      " 32  BsmtExposure   1422 non-null   object \n",
      " 33  BsmtFinType1   1423 non-null   object \n",
      " 34  BsmtFinSF1     1460 non-null   int64  \n",
      " 35  BsmtFinType2   1422 non-null   object \n",
      " 36  BsmtFinSF2     1460 non-null   int64  \n",
      " 37  BsmtUnfSF      1460 non-null   int64  \n",
      " 38  TotalBsmtSF    1460 non-null   int64  \n",
      " 39  Heating        1460 non-null   object \n",
      " 40  HeatingQC      1460 non-null   object \n",
      " 41  CentralAir     1460 non-null   object \n",
      " 42  Electrical     1459 non-null   object \n",
      " 43  1stFlrSF       1460 non-null   int64  \n",
      " 44  2ndFlrSF       1460 non-null   int64  \n",
      " 45  LowQualFinSF   1460 non-null   int64  \n",
      " 46  GrLivArea      1460 non-null   int64  \n",
      " 47  BsmtFullBath   1460 non-null   int64  \n",
      " 48  BsmtHalfBath   1460 non-null   int64  \n",
      " 49  FullBath       1460 non-null   int64  \n",
      " 50  HalfBath       1460 non-null   int64  \n",
      " 51  BedroomAbvGr   1460 non-null   int64  \n",
      " 52  KitchenAbvGr   1460 non-null   int64  \n",
      " 53  KitchenQual    1460 non-null   object \n",
      " 54  TotRmsAbvGrd   1460 non-null   int64  \n",
      " 55  Functional     1460 non-null   object \n",
      " 56  Fireplaces     1460 non-null   int64  \n",
      " 57  FireplaceQu    770 non-null    object \n",
      " 58  GarageType     1379 non-null   object \n",
      " 59  GarageYrBlt    1379 non-null   float64\n",
      " 60  GarageFinish   1379 non-null   object \n",
      " 61  GarageCars     1460 non-null   int64  \n",
      " 62  GarageArea     1460 non-null   int64  \n",
      " 63  GarageQual     1379 non-null   object \n",
      " 64  GarageCond     1379 non-null   object \n",
      " 65  PavedDrive     1460 non-null   object \n",
      " 66  WoodDeckSF     1460 non-null   int64  \n",
      " 67  OpenPorchSF    1460 non-null   int64  \n",
      " 68  EnclosedPorch  1460 non-null   int64  \n",
      " 69  3SsnPorch      1460 non-null   int64  \n",
      " 70  ScreenPorch    1460 non-null   int64  \n",
      " 71  PoolArea       1460 non-null   int64  \n",
      " 72  PoolQC         7 non-null      object \n",
      " 73  Fence          281 non-null    object \n",
      " 74  MiscFeature    54 non-null     object \n",
      " 75  MiscVal        1460 non-null   int64  \n",
      " 76  MoSold         1460 non-null   int64  \n",
      " 77  YrSold         1460 non-null   int64  \n",
      " 78  SaleType       1460 non-null   object \n",
      " 79  SaleCondition  1460 non-null   object \n",
      " 80  SalePrice      1460 non-null   int64  \n",
      "dtypes: float64(3), int64(35), object(43)\n",
      "memory usage: 924.0+ KB\n"
     ]
    }
   ],
   "source": [
    "# Print summary statistics in next line\n",
    "home_data.info()\n"
   ]
  },
  {
   "cell_type": "code",
   "execution_count": 5,
   "id": "08957ce6",
   "metadata": {
    "execution": {
     "iopub.execute_input": "2024-01-30T03:38:38.738796Z",
     "iopub.status.busy": "2024-01-30T03:38:38.738126Z",
     "iopub.status.idle": "2024-01-30T03:38:38.749004Z",
     "shell.execute_reply": "2024-01-30T03:38:38.747471Z"
    },
    "papermill": {
     "duration": 0.018257,
     "end_time": "2024-01-30T03:38:38.750912",
     "exception": false,
     "start_time": "2024-01-30T03:38:38.732655",
     "status": "completed"
    },
    "tags": []
   },
   "outputs": [
    {
     "name": "stdout",
     "output_type": "stream",
     "text": [
      "2010\n"
     ]
    },
    {
     "data": {
      "application/javascript": [
       "parent.postMessage({\"jupyterEvent\": \"custom.exercise_interaction\", \"data\": {\"outcomeType\": 1, \"valueTowardsCompletion\": 0.5, \"interactionType\": 1, \"questionType\": 1, \"questionId\": \"2_HomeDescription\", \"learnToolsVersion\": \"0.3.4\", \"failureMessage\": \"\", \"exceptionClass\": \"\", \"trace\": \"\"}}, \"*\")"
      ],
      "text/plain": [
       "<IPython.core.display.Javascript object>"
      ]
     },
     "metadata": {},
     "output_type": "display_data"
    },
    {
     "data": {
      "text/markdown": [
       "<span style=\"color:#33cc33\">Correct</span>"
      ],
      "text/plain": [
       "Correct"
      ]
     },
     "metadata": {},
     "output_type": "display_data"
    }
   ],
   "source": [
    "# What is the average lot size (rounded to nearest integer)?\n",
    "avg_lot_size = round(home_data.LotArea.mean())\n",
    "\n",
    "# As of today, how old is the newest home (current year - the date in which it was built)\n",
    "print((home_data.YearBuilt.max()))\n",
    "newest_home_age = 2024 - home_data.YearBuilt.max() \n",
    "\n",
    "# Checks your answers\n",
    "step_2.check()"
   ]
  },
  {
   "cell_type": "code",
   "execution_count": 6,
   "id": "245b012e",
   "metadata": {
    "execution": {
     "iopub.execute_input": "2024-01-30T03:38:38.761836Z",
     "iopub.status.busy": "2024-01-30T03:38:38.760652Z",
     "iopub.status.idle": "2024-01-30T03:38:38.766118Z",
     "shell.execute_reply": "2024-01-30T03:38:38.764610Z"
    },
    "papermill": {
     "duration": 0.013644,
     "end_time": "2024-01-30T03:38:38.768791",
     "exception": false,
     "start_time": "2024-01-30T03:38:38.755147",
     "status": "completed"
    },
    "tags": []
   },
   "outputs": [],
   "source": [
    "#step_2.hint()\n",
    "#step_2.solution()"
   ]
  },
  {
   "cell_type": "markdown",
   "id": "e0339680",
   "metadata": {
    "papermill": {
     "duration": 0.003796,
     "end_time": "2024-01-30T03:38:38.777285",
     "exception": false,
     "start_time": "2024-01-30T03:38:38.773489",
     "status": "completed"
    },
    "tags": []
   },
   "source": [
    "## Think About Your Data\n",
    "\n",
    "The newest house in your data isn't that new.  A few potential explanations for this:\n",
    "1. They haven't built new houses where this data was collected.\n",
    "1. The data was collected a long time ago. Houses built after the data publication wouldn't show up.\n",
    "\n",
    "If the reason is explanation #1 above, does that affect your trust in the model you build with this data? What about if it is reason #2?\n",
    "\n",
    "How could you dig into the data to see which explanation is more plausible?\n",
    "\n",
    "Check out this **[discussion thread](https://www.kaggle.com/learn-forum/60581)** to see what others think or to add your ideas.\n",
    "\n",
    "# Keep Going\n",
    "\n",
    "You are ready for **[Your First Machine Learning Model](https://www.kaggle.com/dansbecker/your-first-machine-learning-model).**\n"
   ]
  },
  {
   "cell_type": "code",
   "execution_count": 7,
   "id": "b0e18ca5",
   "metadata": {
    "execution": {
     "iopub.execute_input": "2024-01-30T03:38:38.787086Z",
     "iopub.status.busy": "2024-01-30T03:38:38.786474Z",
     "iopub.status.idle": "2024-01-30T03:38:40.169954Z",
     "shell.execute_reply": "2024-01-30T03:38:40.168494Z"
    },
    "papermill": {
     "duration": 1.391841,
     "end_time": "2024-01-30T03:38:40.173014",
     "exception": false,
     "start_time": "2024-01-30T03:38:38.781173",
     "status": "completed"
    },
    "tags": []
   },
   "outputs": [],
   "source": [
    "from sklearn.model_selection import train_test_split\n",
    "from sklearn.linear_model import LinearRegression"
   ]
  },
  {
   "cell_type": "code",
   "execution_count": 8,
   "id": "eb17d82b",
   "metadata": {
    "execution": {
     "iopub.execute_input": "2024-01-30T03:38:40.183538Z",
     "iopub.status.busy": "2024-01-30T03:38:40.183152Z",
     "iopub.status.idle": "2024-01-30T03:38:40.193106Z",
     "shell.execute_reply": "2024-01-30T03:38:40.192232Z"
    },
    "papermill": {
     "duration": 0.01729,
     "end_time": "2024-01-30T03:38:40.194925",
     "exception": false,
     "start_time": "2024-01-30T03:38:40.177635",
     "status": "completed"
    },
    "tags": []
   },
   "outputs": [
    {
     "name": "stdout",
     "output_type": "stream",
     "text": [
      "['Id', 'MSSubClass', 'LotFrontage', 'LotArea', 'OverallQual', 'OverallCond', 'YearBuilt', 'YearRemodAdd', 'MasVnrArea', 'BsmtFinSF1', 'BsmtFinSF2', 'BsmtUnfSF', 'TotalBsmtSF', '1stFlrSF', '2ndFlrSF', 'LowQualFinSF', 'GrLivArea', 'BsmtFullBath', 'BsmtHalfBath', 'FullBath', 'HalfBath', 'BedroomAbvGr', 'KitchenAbvGr', 'TotRmsAbvGrd', 'Fireplaces', 'GarageYrBlt', 'GarageCars', 'GarageArea', 'WoodDeckSF', 'OpenPorchSF', 'EnclosedPorch', '3SsnPorch', 'ScreenPorch', 'PoolArea', 'MiscVal', 'MoSold', 'YrSold', 'SalePrice']\n"
     ]
    }
   ],
   "source": [
    "prices = home_data.SalePrice\n",
    "all_features = []\n",
    "for features in home_data.columns:\n",
    "    if home_data[features].dtypes == int or home_data[features].dtypes == float:\n",
    "        all_features.append(features)\n",
    "all_features_official = home_data[all_features]\n",
    "print(all_features)"
   ]
  },
  {
   "cell_type": "code",
   "execution_count": 9,
   "id": "2b5fa784",
   "metadata": {
    "execution": {
     "iopub.execute_input": "2024-01-30T03:38:40.205229Z",
     "iopub.status.busy": "2024-01-30T03:38:40.204258Z",
     "iopub.status.idle": "2024-01-30T03:38:40.210386Z",
     "shell.execute_reply": "2024-01-30T03:38:40.208936Z"
    },
    "papermill": {
     "duration": 0.012839,
     "end_time": "2024-01-30T03:38:40.212134",
     "exception": false,
     "start_time": "2024-01-30T03:38:40.199295",
     "status": "completed"
    },
    "tags": []
   },
   "outputs": [
    {
     "name": "stdout",
     "output_type": "stream",
     "text": [
      "Id\n",
      "MSSubClass\n",
      "LotFrontage\n",
      "LotArea\n",
      "OverallQual\n",
      "OverallCond\n",
      "YearBuilt\n",
      "YearRemodAdd\n",
      "MasVnrArea\n",
      "BsmtFinSF1\n",
      "BsmtFinSF2\n",
      "BsmtUnfSF\n",
      "TotalBsmtSF\n",
      "1stFlrSF\n",
      "2ndFlrSF\n",
      "LowQualFinSF\n",
      "GrLivArea\n",
      "BsmtFullBath\n",
      "BsmtHalfBath\n",
      "FullBath\n",
      "HalfBath\n",
      "BedroomAbvGr\n",
      "KitchenAbvGr\n",
      "TotRmsAbvGrd\n",
      "Fireplaces\n",
      "GarageYrBlt\n",
      "GarageCars\n",
      "GarageArea\n",
      "WoodDeckSF\n",
      "OpenPorchSF\n",
      "EnclosedPorch\n",
      "3SsnPorch\n",
      "ScreenPorch\n",
      "PoolArea\n",
      "MiscVal\n",
      "MoSold\n",
      "YrSold\n",
      "SalePrice\n"
     ]
    }
   ],
   "source": [
    "for feature in all_features:\n",
    "    print(feature)\n",
    "#     feature_real = home_data[feature]\n",
    "#     features_train, features_test, winnings_train, winnings_test = train_test_split(feature_real, prices, train_size = 0.8)\n",
    "#     features_train = features_train.values.reshape(-1,1)\n",
    "#     winnings_train = winnings_train.values.reshape(-1,1)\n",
    "#     features_test = features_test.values.reshape(-1,1)\n",
    "#     winnings_test = winnings_test.values.reshape(-1,1)\n",
    "#     model = LinearRegression()\n",
    "#     model.fit(features_train,winnings_train)\n",
    "#     print('Predicting prices with {f} Test Score:'.format(f= feature), model.score(features_test,winnings_test))\n",
    "#     print('Predicting Winnings with {f} Train Score:'.format(f= feature), model.score(features_train,winnings_train))"
   ]
  },
  {
   "cell_type": "code",
   "execution_count": 10,
   "id": "758ae742",
   "metadata": {
    "execution": {
     "iopub.execute_input": "2024-01-30T03:38:40.223132Z",
     "iopub.status.busy": "2024-01-30T03:38:40.222014Z",
     "iopub.status.idle": "2024-01-30T03:38:40.228620Z",
     "shell.execute_reply": "2024-01-30T03:38:40.226814Z"
    },
    "papermill": {
     "duration": 0.017308,
     "end_time": "2024-01-30T03:38:40.233791",
     "exception": false,
     "start_time": "2024-01-30T03:38:40.216483",
     "status": "completed"
    },
    "tags": []
   },
   "outputs": [],
   "source": [
    "# features_train, features_test, winnings_train, winnings_test = train_test_split(all_features, prices, train_size = 0.8)\n",
    "# model = LinearRegression()\n",
    "# model.fit(features_train,winnings_train)"
   ]
  },
  {
   "cell_type": "markdown",
   "id": "5f5e7680",
   "metadata": {
    "papermill": {
     "duration": 0.006083,
     "end_time": "2024-01-30T03:38:40.246009",
     "exception": false,
     "start_time": "2024-01-30T03:38:40.239926",
     "status": "completed"
    },
    "tags": []
   },
   "source": [
    "---\n",
    "**[Machine Learning Course Home Page](https://www.kaggle.com/learn/machine-learning)**\n",
    "\n"
   ]
  }
 ],
 "metadata": {
  "kaggle": {
   "accelerator": "none",
   "dataSources": [
    {
     "datasetId": 2709,
     "sourceId": 38454,
     "sourceType": "datasetVersion"
    },
    {
     "datasetId": 108980,
     "sourceId": 260251,
     "sourceType": "datasetVersion"
    }
   ],
   "isGpuEnabled": false,
   "isInternetEnabled": false,
   "language": "python",
   "sourceType": "notebook"
  },
  "kernelspec": {
   "display_name": "Python 3",
   "language": "python",
   "name": "python3"
  },
  "language_info": {
   "codemirror_mode": {
    "name": "ipython",
    "version": 3
   },
   "file_extension": ".py",
   "mimetype": "text/x-python",
   "name": "python",
   "nbconvert_exporter": "python",
   "pygments_lexer": "ipython3",
   "version": "3.10.13"
  },
  "papermill": {
   "default_parameters": {},
   "duration": 5.885743,
   "end_time": "2024-01-30T03:38:40.976603",
   "environment_variables": {},
   "exception": null,
   "input_path": "__notebook__.ipynb",
   "output_path": "__notebook__.ipynb",
   "parameters": {},
   "start_time": "2024-01-30T03:38:35.090860",
   "version": "2.5.0"
  }
 },
 "nbformat": 4,
 "nbformat_minor": 5
}
